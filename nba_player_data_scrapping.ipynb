{
 "cells": [
  {
   "cell_type": "code",
   "execution_count": 1,
   "id": "ddd77e9c",
   "metadata": {},
   "outputs": [],
   "source": [
    "#Importing necessary libraries required to complete the task \n",
    "import pandas as pd\n",
    "import numpy as np\n",
    "import requests\n",
    "pd.set_option('display.max_columns',None)\n",
    "import time\n",
    "import requests\n",
    "from requests.exceptions import ConnectionError, Timeout"
   ]
  },
  {
   "cell_type": "code",
   "execution_count": 2,
   "id": "214a9528",
   "metadata": {},
   "outputs": [],
   "source": [
    "# creating a url variable to store the url to retrive the headers required for the column name\n",
    "url = 'https://stats.nba.com/stats/leagueLeaders?LeagueID=00&PerMode=Totals&Scope=S&Season=2015-16&SeasonType=Playoffs&StatCategory=PTS'\n",
    "# variable 'r' is used to the json response from the url we have  \n",
    "r = requests.get(url=url).json()\n",
    "# 'headers' variable is used to store the headers which will be the column names in the final data set \n",
    "headers=r['resultSet']['headers']\n",
    "# 'df_col' has 2 additional column name which are required to distinguish the data correctly\n",
    "df_col=['Year','Season_type']+headers"
   ]
  },
  {
   "cell_type": "code",
   "execution_count": 3,
   "id": "3510be41",
   "metadata": {},
   "outputs": [],
   "source": [
    "# 'df'is an empty data frame in which all the data from the url will be stored in Table format\n",
    "df=pd.DataFrame(columns=df_col)\n",
    "\n",
    "# season is used to get data for the given the year,and also the requirement of how much data is needed\n",
    "season=['2015-16','2016-17','2017-18','2018-19','2019-20','2020-21','2021-22','2022-23']\n",
    "\n",
    "# season types is used for what type of season data is required \n",
    "season_types=['Regular%20Season','Playoffs']\n",
    "\n",
    "'''\n",
    "Outer For loop is used to itterate through number of season and inner for loop is used to itterate through\n",
    "what type of season data we need\n",
    "'''\n",
    "\n",
    "for y in season:\n",
    "    for s in season_types:\n",
    "        url = 'https://stats.nba.com/stats/leagueLeaders?LeagueID=00&PerMode=Totals&Scope=S&Season='+y+'&SeasonType='+s+'&StatCategory=PTS'\n",
    "        r = requests.get(url=url).json()\n",
    "        temp_df1=pd.DataFrame(r['resultSet']['rowSet'],columns=headers)\n",
    "        temp_df2=pd.DataFrame({\n",
    "                      'Year':[y for i in range(len(temp_df1))],\n",
    "                      'Season_type':[s for i in range(len(temp_df1))]\n",
    "                      })\n",
    "        temp_df3=pd.concat([temp_df2,temp_df1],axis=1)\n",
    "        df=pd.concat([df,temp_df3],axis=0)\n",
    "#finally then it is stored in a xlsx format for further EDA\n",
    "df.to_excel(\"NBA_players.xlsx\",index=False)"
   ]
  },
  {
   "cell_type": "code",
   "execution_count": null,
   "id": "95fcbb61",
   "metadata": {},
   "outputs": [],
   "source": []
  },
  {
   "cell_type": "code",
   "execution_count": null,
   "id": "afa7dfe2",
   "metadata": {},
   "outputs": [],
   "source": []
  },
  {
   "cell_type": "code",
   "execution_count": null,
   "id": "96e5aded",
   "metadata": {},
   "outputs": [],
   "source": []
  },
  {
   "cell_type": "code",
   "execution_count": null,
   "id": "3b11ad36",
   "metadata": {},
   "outputs": [],
   "source": []
  },
  {
   "cell_type": "code",
   "execution_count": null,
   "id": "99f46cc3",
   "metadata": {},
   "outputs": [],
   "source": [
    "\n"
   ]
  }
 ],
 "metadata": {
  "kernelspec": {
   "display_name": "Python 3 (ipykernel)",
   "language": "python",
   "name": "python3"
  },
  "language_info": {
   "codemirror_mode": {
    "name": "ipython",
    "version": 3
   },
   "file_extension": ".py",
   "mimetype": "text/x-python",
   "name": "python",
   "nbconvert_exporter": "python",
   "pygments_lexer": "ipython3",
   "version": "3.11.0"
  }
 },
 "nbformat": 4,
 "nbformat_minor": 5
}
